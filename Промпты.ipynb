{
 "cells": [
  {
   "cell_type": "markdown",
   "metadata": {
    "colab_type": "text",
    "id": "view-in-github"
   },
   "source": [
    "<a href=\"https://colab.research.google.com/github/StepaOpa/ATAS_OPD/blob/%D0%A2%D0%B8%D0%BC%D0%BE%D1%84%D0%B5%D0%B9/%D0%9F%D1%80%D0%BE%D0%BC%D0%BF%D1%82%D1%8B.ipynb\" target=\"_parent\"><img src=\"https://colab.research.google.com/assets/colab-badge.svg\" alt=\"Open In Colab\"/></a>"
   ]
  },
  {
   "cell_type": "markdown",
   "metadata": {},
   "source": [
    "Всё про промпты"
   ]
  },
  {
   "cell_type": "markdown",
   "metadata": {
    "id": "ot068PKH7xI3"
   },
   "source": [
    "Регистрация\n",
    "и Настройки:\n",
    "\n",
    "/start -\n",
    "Начать работу с ботом и заполнить анкету.\n",
    "\n",
    "/settings -\n",
    "Настройки профиля и предпочтений.\n",
    "\n",
    "Анализ\n",
    "Пищевых Привычек и аллергии:\n",
    "\n",
    "/food_habits\n",
    "- Ввести текущие пищевые привычки. (Учет аллергенов)\n",
    "\n",
    "Генерация\n",
    "Рационов Питания:\n",
    "\n",
    "/generate_plan\n",
    "- Создать персонализированный рацион.\n",
    "\n",
    "/choose_plan\n",
    "- Выбрать из предложенных планов.\n",
    "\n",
    "\n",
    "Рекомендации\n",
    "по Приготовлению:\n",
    "\n",
    "/recipes -\n",
    "Получить рецепты на каждый день.\n",
    "\n",
    "/cook_instructions\n",
    "- Получить пошаговые инструкции по приготовлению.\n",
    "\n",
    "\n",
    "Отслеживание\n",
    "Прогресса:\n",
    "\n",
    "/track_food\n",
    "- Ввести данные о съеденной пище.\n",
    "\n",
    "\n",
    "/track_weight\n",
    "- Ввести данные о весе.\n",
    "\n",
    "Напоминания:\n",
    "\n",
    "/set_reminders\n",
    "- Настроить напоминания о приемах пищи и воде.\n"
   ]
  },
  {
   "cell_type": "markdown",
   "metadata": {
    "id": "dMd0JwiPQY-W"
   },
   "source": [
    "# **По-моему можно не париться с переводом и сразу делать на русском языке, особой разницы я не заметил так как запросы к иишке у нас совсем не трудные, поэтому русский язык сам справляется**"
   ]
  },
  {
   "cell_type": "markdown",
   "metadata": {
    "id": "yPu4NC4FIkIc"
   },
   "source": [
    "# ***Предполжительно пользователь ввел информацию о...***\n",
    "1) цели использования бота\n",
    "2) весе\n",
    "3) росте\n",
    "4) запрещеные аллергены\n",
    "5) количество приемов пищи, удобное пользователю\n",
    "6) Желаемое количество приемов пищи в день"
   ]
  },
  {
   "cell_type": "markdown",
   "metadata": {
    "id": "5z24q6128GXz"
   },
   "source": [
    "#/food_habits"
   ]
  },
  {
   "cell_type": "code",
   "execution_count": null,
   "metadata": {
    "id": "9dFOHfwB9nob"
   },
   "outputs": [],
   "source": [
    "print(f'identify the prohibited allergens in the message to the user and display them separated by commas after a colon: {message}')#промт для выявления аллергенов"
   ]
  },
  {
   "cell_type": "markdown",
   "metadata": {
    "id": "11QNv4Cq-rkI"
   },
   "source": [
    "Перевод: определи в сообщении запрещенные аллергены для пользователя и выведи их через запятую после двоеточия"
   ]
  },
  {
   "cell_type": "markdown",
   "metadata": {
    "id": "kNmgKhRc-u7A"
   },
   "source": [
    "Нейронка найдет в вводе пользователя его аллергены и выведет их через запятую, поэтому легко будет вытащить нужную инфу про аллергены"
   ]
  },
  {
   "cell_type": "markdown",
   "metadata": {
    "id": "n7qrKarM_DM5"
   },
   "source": [
    "# Промпт для подсчета оптимального количества калорий с учетом цели и параметров пользователя"
   ]
  },
  {
   "cell_type": "code",
   "execution_count": null,
   "metadata": {
    "id": "tdLNSkeyBT-N"
   },
   "outputs": [],
   "source": [
    "print(f\"Calculate how many calories a person needs to consume for {1}, taking into account the person's weight and height. The weight is {2} and the height is {3}. Write down the answer in one number - the number of calories. There is no need to attach explanations and calculations\")"
   ]
  },
  {
   "cell_type": "markdown",
   "metadata": {
    "id": "QlOx8MhyFo8A"
   },
   "source": [
    "перевод: Посчитай какое количество калорий нужно потреблять человеку для {1}, учитывая вес и рост человека. Вес равен {2}, а рост равен {3}. Запиши ответ одним числом - количество калорий. Пояснений и подсчетов прилагать не нужно"
   ]
  },
  {
   "cell_type": "markdown",
   "metadata": {
    "id": "gXuIzPXEF7Dh"
   },
   "source": [
    "иишка выведет одно число - примерно необходимое количество калорий для достижения цели, что представляет из себя удобную работу с этой инфой"
   ]
  },
  {
   "cell_type": "markdown",
   "metadata": {
    "id": "IqiTjeEiGSiH"
   },
   "source": [
    "# /generate_plan"
   ]
  },
  {
   "cell_type": "code",
   "execution_count": null,
   "metadata": {
    "colab": {
     "base_uri": "https://localhost:8080/"
    },
    "id": "-SdEfYC-GlY6",
    "outputId": "7ecbdc47-6a0a-482d-85b6-0ca21cba6351"
   },
   "outputs": [
    {
     "name": "stdout",
     "output_type": "stream",
     "text": [
      "generate a varied meal plan for the week for 1. Diet products should not include: 4. The number of calories per day should be about . The number of calories for each day should be calculated\n"
     ]
    }
   ],
   "source": [
    "print(f\"generate a varied meal plan for the week for {1}. Diet products should not include: {4}. The number of calories per day should be about {number of calories}. The number of calories for each day should be calculated\")"
   ]
  },
  {
   "cell_type": "markdown",
   "metadata": {
    "id": "nuWfrDq_LyTh"
   },
   "source": [
    "Перевод: сгенерируй разнообразный план питания на неделю для {1}. В продукты рациона не должны входить: {4}. Количество калорий в день должно составлять около {кол-во калорий}. Должно высчитываться количество калорий за каждый день"
   ]
  },
  {
   "cell_type": "markdown",
   "metadata": {
    "id": "UwxdnulwMGrV"
   },
   "source": [
    "Иишка выдаст нам рацион (Промпт не учитывает предпочтения по количеству приемов пищи, можем реализовать, если захотим)"
   ]
  },
  {
   "cell_type": "markdown",
   "metadata": {
    "id": "itXWjddFNVDs"
   },
   "source": [
    "# /recipes"
   ]
  },
  {
   "cell_type": "markdown",
   "metadata": {
    "id": "-RTVWdNaNZod"
   },
   "source": [
    "предварительно, для облегчения работы, пользователь просто будет вводить блюдо рецепт, которого ему нужен и все"
   ]
  },
  {
   "cell_type": "code",
   "execution_count": null,
   "metadata": {
    "id": "UkG_73-INXxf"
   },
   "outputs": [],
   "source": [
    "print(f\"Write detailed instructions on how to cook {dish}. Also show the ingredients list\")"
   ]
  },
  {
   "cell_type": "markdown",
   "metadata": {
    "id": "KhgngJMQP3EF"
   },
   "source": [
    "перевод: Напиши подробную инструкцию о том как приготовить {dish}. Также покажи список ингредиентов"
   ]
  },
  {
   "cell_type": "markdown",
   "metadata": {
    "id": "_cT_y3KAQCls"
   },
   "source": [
    "вдобавок часто выводит рекомендации, можно в промт вписать, чтобы всегда их писал"
   ]
  }
 ],
 "metadata": {
  "colab": {
   "authorship_tag": "ABX9TyPbX4LeN7aTml/aubMZeMEk",
   "include_colab_link": true,
   "provenance": []
  },
  "kernelspec": {
   "display_name": "Python 3",
   "name": "python3"
  },
  "language_info": {
   "name": "python"
  }
 },
 "nbformat": 4,
 "nbformat_minor": 0
}
